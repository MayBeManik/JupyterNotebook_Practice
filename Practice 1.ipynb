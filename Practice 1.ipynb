{
 "cells": [
  {
   "cell_type": "code",
   "execution_count": null,
   "id": "3fde3994",
   "metadata": {},
   "outputs": [],
   "source": [
    "2+3"
   ]
  },
  {
   "cell_type": "code",
   "execution_count": 3,
   "id": "22974905",
   "metadata": {},
   "outputs": [
    {
     "data": {
      "text/plain": [
       "16"
      ]
     },
     "execution_count": 3,
     "metadata": {},
     "output_type": "execute_result"
    }
   ],
   "source": [
    "8+8"
   ]
  },
  {
   "cell_type": "code",
   "execution_count": 4,
   "id": "f245a8a2",
   "metadata": {},
   "outputs": [
    {
     "data": {
      "text/plain": [
       "81"
      ]
     },
     "execution_count": 4,
     "metadata": {},
     "output_type": "execute_result"
    }
   ],
   "source": [
    "9**2"
   ]
  },
  {
   "cell_type": "code",
   "execution_count": 5,
   "id": "0ca5d3a5",
   "metadata": {},
   "outputs": [
    {
     "ename": "SyntaxError",
     "evalue": "invalid syntax (2756623282.py, line 3)",
     "output_type": "error",
     "traceback": [
      "\u001b[1;36m  Input \u001b[1;32mIn [5]\u001b[1;36m\u001b[0m\n\u001b[1;33m    print (\"My Full Name:\" first,kumar)\u001b[0m\n\u001b[1;37m                           ^\u001b[0m\n\u001b[1;31mSyntaxError\u001b[0m\u001b[1;31m:\u001b[0m invalid syntax\n"
     ]
    }
   ],
   "source": [
    "frist=\"Manik\"\n",
    "last=\"Kumar\"\n",
    "print (\"My Full Name:\" first,kumar)"
   ]
  },
  {
   "cell_type": "code",
   "execution_count": 1,
   "id": "d46ac77d",
   "metadata": {},
   "outputs": [
    {
     "ename": "NameError",
     "evalue": "name 'first' is not defined",
     "output_type": "error",
     "traceback": [
      "\u001b[1;31m---------------------------------------------------------------------------\u001b[0m",
      "\u001b[1;31mNameError\u001b[0m                                 Traceback (most recent call last)",
      "Input \u001b[1;32mIn [1]\u001b[0m, in \u001b[0;36m<cell line: 3>\u001b[1;34m()\u001b[0m\n\u001b[0;32m      1\u001b[0m frist\u001b[38;5;241m=\u001b[39m\u001b[38;5;124m\"\u001b[39m\u001b[38;5;124mManik\u001b[39m\u001b[38;5;124m\"\u001b[39m\n\u001b[0;32m      2\u001b[0m last\u001b[38;5;241m=\u001b[39m\u001b[38;5;124m\"\u001b[39m\u001b[38;5;124mKumar\u001b[39m\u001b[38;5;124m\"\u001b[39m\n\u001b[1;32m----> 3\u001b[0m \u001b[38;5;28mprint\u001b[39m (\u001b[43mfirst\u001b[49m,last)\n",
      "\u001b[1;31mNameError\u001b[0m: name 'first' is not defined"
     ]
    }
   ],
   "source": [
    "frist=\"Manik\"\n",
    "last=\"Kumar\"\n",
    "print (first,last)"
   ]
  },
  {
   "cell_type": "code",
   "execution_count": 2,
   "id": "c4ccd3f4",
   "metadata": {},
   "outputs": [
    {
     "ename": "SyntaxError",
     "evalue": "invalid syntax (1420646375.py, line 3)",
     "output_type": "error",
     "traceback": [
      "\u001b[1;36m  Input \u001b[1;32mIn [2]\u001b[1;36m\u001b[0m\n\u001b[1;33m    print (\"My Full Name:\" first,kumar)\u001b[0m\n\u001b[1;37m                           ^\u001b[0m\n\u001b[1;31mSyntaxError\u001b[0m\u001b[1;31m:\u001b[0m invalid syntax\n"
     ]
    }
   ],
   "source": [
    "first=\"Manik\"\n",
    "last=\"Kumar\"\n",
    "print (\"My Full Name:\" first,kumar)"
   ]
  },
  {
   "cell_type": "code",
   "execution_count": 3,
   "id": "44854404",
   "metadata": {},
   "outputs": [
    {
     "name": "stdout",
     "output_type": "stream",
     "text": [
      "Manik Kumar\n"
     ]
    }
   ],
   "source": [
    "frist=\"Manik\"\n",
    "last=\"Kumar\"\n",
    "print (frist,last)"
   ]
  },
  {
   "cell_type": "code",
   "execution_count": 5,
   "id": "6dad0748",
   "metadata": {},
   "outputs": [
    {
     "ename": "NameError",
     "evalue": "name 'frist' is not defined",
     "output_type": "error",
     "traceback": [
      "\u001b[1;31m---------------------------------------------------------------------------\u001b[0m",
      "\u001b[1;31mNameError\u001b[0m                                 Traceback (most recent call last)",
      "Input \u001b[1;32mIn [5]\u001b[0m, in \u001b[0;36m<cell line: 1>\u001b[1;34m()\u001b[0m\n\u001b[1;32m----> 1\u001b[0m \u001b[38;5;28;01mdel\u001b[39;00m frist\n",
      "\u001b[1;31mNameError\u001b[0m: name 'frist' is not defined"
     ]
    }
   ],
   "source": [
    "del frist"
   ]
  },
  {
   "cell_type": "code",
   "execution_count": 6,
   "id": "9af425e7",
   "metadata": {},
   "outputs": [
    {
     "ename": "SyntaxError",
     "evalue": "invalid syntax (1215532357.py, line 3)",
     "output_type": "error",
     "traceback": [
      "\u001b[1;36m  Input \u001b[1;32mIn [6]\u001b[1;36m\u001b[0m\n\u001b[1;33m    print (\"My FUll Name=\" first,last)\u001b[0m\n\u001b[1;37m                           ^\u001b[0m\n\u001b[1;31mSyntaxError\u001b[0m\u001b[1;31m:\u001b[0m invalid syntax\n"
     ]
    }
   ],
   "source": [
    "first=\"Manik\"\n",
    "last=\"Kumar\"\n",
    "print (\"My FUll Name=\" first,last)"
   ]
  },
  {
   "cell_type": "code",
   "execution_count": 7,
   "id": "26f0ac7a",
   "metadata": {},
   "outputs": [
    {
     "name": "stdout",
     "output_type": "stream",
     "text": [
      "Manik Kumar\n"
     ]
    }
   ],
   "source": [
    "first=\"Manik\"\n",
    "last=\"Kumar\"\n",
    "print (first,last)"
   ]
  },
  {
   "cell_type": "code",
   "execution_count": 8,
   "id": "b68c52bb",
   "metadata": {},
   "outputs": [
    {
     "name": "stdout",
     "output_type": "stream",
     "text": [
      "My Full name is Manik Kumar\n"
     ]
    }
   ],
   "source": [
    "first=\"Manik\"\n",
    "last=\"Kumar\"\n",
    "full=\"My Full name is\"\n",
    "print (full,first,last)"
   ]
  },
  {
   "cell_type": "code",
   "execution_count": null,
   "id": "8db61807",
   "metadata": {},
   "outputs": [],
   "source": []
  },
  {
   "cell_type": "code",
   "execution_count": 1,
   "id": "2b151ea4",
   "metadata": {},
   "outputs": [
    {
     "name": "stdout",
     "output_type": "stream",
     "text": [
      "770.63175\n"
     ]
    }
   ],
   "source": [
    "length=23.73\n",
    "width=32.475\n",
    "area=(length*width)\n",
    "print(area)\n"
   ]
  },
  {
   "cell_type": "code",
   "execution_count": 2,
   "id": "85be17ab",
   "metadata": {},
   "outputs": [
    {
     "name": "stdout",
     "output_type": "stream",
     "text": [
      "770.63175\n"
     ]
    }
   ],
   "source": [
    "lenght=2\n",
    "width=2\n",
    "print(area)"
   ]
  },
  {
   "cell_type": "code",
   "execution_count": 3,
   "id": "5a9a2023",
   "metadata": {},
   "outputs": [],
   "source": [
    "del lenght\n",
    "del width"
   ]
  },
  {
   "cell_type": "code",
   "execution_count": 6,
   "id": "91b2c0dd",
   "metadata": {},
   "outputs": [
    {
     "name": "stdout",
     "output_type": "stream",
     "text": [
      "47.46\n"
     ]
    }
   ],
   "source": [
    "lenght=2\n",
    "width=2\n",
    "area=(length*width)\n",
    "print(area) "
   ]
  },
  {
   "cell_type": "code",
   "execution_count": 7,
   "id": "ea9d50bf",
   "metadata": {},
   "outputs": [
    {
     "name": "stdout",
     "output_type": "stream",
     "text": [
      "5291.79\n"
     ]
    }
   ],
   "source": [
    "lenght=222\n",
    "width=223\n",
    "area=(length*width)\n",
    "print(area) "
   ]
  },
  {
   "cell_type": "code",
   "execution_count": 8,
   "id": "af76ddb9",
   "metadata": {},
   "outputs": [
    {
     "data": {
      "text/plain": [
       "49506"
      ]
     },
     "execution_count": 8,
     "metadata": {},
     "output_type": "execute_result"
    }
   ],
   "source": [
    "223*222"
   ]
  },
  {
   "cell_type": "code",
   "execution_count": 9,
   "id": "df8bc066",
   "metadata": {},
   "outputs": [
    {
     "data": {
      "text/plain": [
       "0.2999999999999998"
      ]
     },
     "execution_count": 9,
     "metadata": {},
     "output_type": "execute_result"
    }
   ],
   "source": [
    "6-5.7"
   ]
  },
  {
   "cell_type": "code",
   "execution_count": null,
   "id": "595cba0f",
   "metadata": {},
   "outputs": [],
   "source": []
  },
  {
   "cell_type": "code",
   "execution_count": null,
   "id": "b156a3ef",
   "metadata": {},
   "outputs": [],
   "source": []
  },
  {
   "cell_type": "code",
   "execution_count": 10,
   "id": "14798677",
   "metadata": {},
   "outputs": [],
   "source": [
    "del lenght\n",
    "del width"
   ]
  },
  {
   "cell_type": "code",
   "execution_count": null,
   "id": "23850bf7",
   "metadata": {},
   "outputs": [],
   "source": []
  },
  {
   "cell_type": "code",
   "execution_count": 11,
   "id": "10b88a5e",
   "metadata": {},
   "outputs": [
    {
     "ename": "NameError",
     "evalue": "name 'lenght' is not defined",
     "output_type": "error",
     "traceback": [
      "\u001b[1;31m---------------------------------------------------------------------------\u001b[0m",
      "\u001b[1;31mNameError\u001b[0m                                 Traceback (most recent call last)",
      "Input \u001b[1;32mIn [11]\u001b[0m, in \u001b[0;36m<cell line: 1>\u001b[1;34m()\u001b[0m\n\u001b[1;32m----> 1\u001b[0m \u001b[43mlenght\u001b[49m\n",
      "\u001b[1;31mNameError\u001b[0m: name 'lenght' is not defined"
     ]
    }
   ],
   "source": [
    "lenght"
   ]
  },
  {
   "cell_type": "code",
   "execution_count": 12,
   "id": "63b53623",
   "metadata": {},
   "outputs": [
    {
     "ename": "SyntaxError",
     "evalue": "Missing parentheses in call to 'print'. Did you mean print(area)? (3489739076.py, line 4)",
     "output_type": "error",
     "traceback": [
      "\u001b[1;36m  Input \u001b[1;32mIn [12]\u001b[1;36m\u001b[0m\n\u001b[1;33m    print area\u001b[0m\n\u001b[1;37m          ^\u001b[0m\n\u001b[1;31mSyntaxError\u001b[0m\u001b[1;31m:\u001b[0m Missing parentheses in call to 'print'. Did you mean print(area)?\n"
     ]
    }
   ],
   "source": [
    "lenght=92\n",
    "width=48.8\n",
    "area=lenght*width\n",
    "print area"
   ]
  },
  {
   "cell_type": "code",
   "execution_count": 13,
   "id": "6855a537",
   "metadata": {},
   "outputs": [
    {
     "name": "stdout",
     "output_type": "stream",
     "text": [
      "4489.599999999999\n"
     ]
    }
   ],
   "source": [
    "lenght=92\n",
    "width=48.8\n",
    "area=lenght*width\n",
    "print (area)"
   ]
  },
  {
   "cell_type": "code",
   "execution_count": 14,
   "id": "459e9101",
   "metadata": {},
   "outputs": [
    {
     "data": {
      "text/plain": [
       "4489.599999999999"
      ]
     },
     "execution_count": 14,
     "metadata": {},
     "output_type": "execute_result"
    }
   ],
   "source": [
    "92*48.8"
   ]
  },
  {
   "cell_type": "code",
   "execution_count": 15,
   "id": "9afdad34",
   "metadata": {},
   "outputs": [
    {
     "data": {
      "text/plain": [
       "6.59"
      ]
     },
     "execution_count": 15,
     "metadata": {},
     "output_type": "execute_result"
    }
   ],
   "source": [
    "20-1.49*9\n"
   ]
  },
  {
   "cell_type": "code",
   "execution_count": 16,
   "id": "b188ff07",
   "metadata": {},
   "outputs": [
    {
     "data": {
      "text/plain": [
       "13.41"
      ]
     },
     "execution_count": 16,
     "metadata": {},
     "output_type": "execute_result"
    }
   ],
   "source": [
    "9*1.49"
   ]
  },
  {
   "cell_type": "code",
   "execution_count": 17,
   "id": "6deb1086",
   "metadata": {},
   "outputs": [
    {
     "data": {
      "text/plain": [
       "-6.59"
      ]
     },
     "execution_count": 17,
     "metadata": {},
     "output_type": "execute_result"
    }
   ],
   "source": [
    "13.41-20"
   ]
  },
  {
   "cell_type": "code",
   "execution_count": 18,
   "id": "cf15c2ea",
   "metadata": {},
   "outputs": [
    {
     "ename": "NameError",
     "evalue": "name 'b' is not defined",
     "output_type": "error",
     "traceback": [
      "\u001b[1;31m---------------------------------------------------------------------------\u001b[0m",
      "\u001b[1;31mNameError\u001b[0m                                 Traceback (most recent call last)",
      "Input \u001b[1;32mIn [18]\u001b[0m, in \u001b[0;36m<cell line: 2>\u001b[1;34m()\u001b[0m\n\u001b[0;32m      1\u001b[0m \u001b[38;5;241m17\u001b[39m\n\u001b[1;32m----> 2\u001b[0m \u001b[38;5;28mprint\u001b[39m (\u001b[38;5;241m17\u001b[39m,\u001b[43mb\u001b[49m)\n",
      "\u001b[1;31mNameError\u001b[0m: name 'b' is not defined"
     ]
    }
   ],
   "source": [
    "17\n",
    "print (17,b)"
   ]
  },
  {
   "cell_type": "code",
   "execution_count": 19,
   "id": "c918f45e",
   "metadata": {},
   "outputs": [
    {
     "ename": "NameError",
     "evalue": "name 'b' is not defined",
     "output_type": "error",
     "traceback": [
      "\u001b[1;31m---------------------------------------------------------------------------\u001b[0m",
      "\u001b[1;31mNameError\u001b[0m                                 Traceback (most recent call last)",
      "Input \u001b[1;32mIn [19]\u001b[0m, in \u001b[0;36m<cell line: 1>\u001b[1;34m()\u001b[0m\n\u001b[1;32m----> 1\u001b[0m \u001b[38;5;28mformat\u001b[39m (\u001b[38;5;241m17\u001b[39m,\u001b[43mb\u001b[49m)\n",
      "\u001b[1;31mNameError\u001b[0m: name 'b' is not defined"
     ]
    }
   ],
   "source": [
    "\n",
    "format (17,b)"
   ]
  },
  {
   "cell_type": "code",
   "execution_count": 20,
   "id": "e808b1cf",
   "metadata": {},
   "outputs": [
    {
     "data": {
      "text/plain": [
       "'10001'"
      ]
     },
     "execution_count": 20,
     "metadata": {},
     "output_type": "execute_result"
    }
   ],
   "source": [
    "format (17,'b')"
   ]
  },
  {
   "cell_type": "code",
   "execution_count": 21,
   "id": "346dc091",
   "metadata": {},
   "outputs": [
    {
     "data": {
      "text/plain": [
       "11803.064820864423"
      ]
     },
     "execution_count": 21,
     "metadata": {},
     "output_type": "execute_result"
    }
   ],
   "source": [
    "5.5**5.5"
   ]
  },
  {
   "cell_type": "code",
   "execution_count": 22,
   "id": "db607190",
   "metadata": {},
   "outputs": [
    {
     "data": {
      "text/plain": [
       "5901500"
      ]
     },
     "execution_count": 22,
     "metadata": {},
     "output_type": "execute_result"
    }
   ],
   "source": [
    "11803*500"
   ]
  },
  {
   "cell_type": "code",
   "execution_count": 23,
   "id": "d090e922",
   "metadata": {},
   "outputs": [
    {
     "data": {
      "text/plain": [
       "30.25"
      ]
     },
     "execution_count": 23,
     "metadata": {},
     "output_type": "execute_result"
    }
   ],
   "source": [
    "5.5**2            "
   ]
  },
  {
   "cell_type": "code",
   "execution_count": 24,
   "id": "c3475a3e",
   "metadata": {},
   "outputs": [
    {
     "data": {
      "text/plain": [
       "15125.0"
      ]
     },
     "execution_count": 24,
     "metadata": {},
     "output_type": "execute_result"
    }
   ],
   "source": [
    "30.25*500"
   ]
  },
  {
   "cell_type": "code",
   "execution_count": 25,
   "id": "7ced2c16",
   "metadata": {},
   "outputs": [
    {
     "name": "stdout",
     "output_type": "stream",
     "text": [
      "Hello\n"
     ]
    }
   ],
   "source": [
    "print (\"Hello\")"
   ]
  },
  {
   "cell_type": "code",
   "execution_count": 26,
   "id": "2f9a2402",
   "metadata": {},
   "outputs": [
    {
     "name": "stdout",
     "output_type": "stream",
     "text": [
      "area of field 4489.599999999999\n"
     ]
    }
   ],
   "source": [
    "lenght=92\n",
    "width=48.8\n",
    "area=lenght*width\n",
    "print (\"area of field\",area)"
   ]
  },
  {
   "cell_type": "code",
   "execution_count": 27,
   "id": "8fb7d5a8",
   "metadata": {},
   "outputs": [
    {
     "ename": "NameError",
     "evalue": "name 'kumar' is not defined",
     "output_type": "error",
     "traceback": [
      "\u001b[1;31m---------------------------------------------------------------------------\u001b[0m",
      "\u001b[1;31mNameError\u001b[0m                                 Traceback (most recent call last)",
      "Input \u001b[1;32mIn [27]\u001b[0m, in \u001b[0;36m<cell line: 3>\u001b[1;34m()\u001b[0m\n\u001b[0;32m      1\u001b[0m first\u001b[38;5;241m=\u001b[39m\u001b[38;5;124m\"\u001b[39m\u001b[38;5;124mManik\u001b[39m\u001b[38;5;124m\"\u001b[39m\n\u001b[0;32m      2\u001b[0m last\u001b[38;5;241m=\u001b[39m\u001b[38;5;124m\"\u001b[39m\u001b[38;5;124mKumar\u001b[39m\u001b[38;5;124m\"\u001b[39m\n\u001b[1;32m----> 3\u001b[0m \u001b[38;5;28mprint\u001b[39m (\u001b[38;5;124m\"\u001b[39m\u001b[38;5;124mMy Full Name:\u001b[39m\u001b[38;5;124m\"\u001b[39m,first,\u001b[43mkumar\u001b[49m)\n",
      "\u001b[1;31mNameError\u001b[0m: name 'kumar' is not defined"
     ]
    }
   ],
   "source": [
    "first=\"Manik\"\n",
    "last=\"Kumar\"\n",
    "print (\"My Full Name:\",first,kumar)"
   ]
  },
  {
   "cell_type": "code",
   "execution_count": 28,
   "id": "651ef30c",
   "metadata": {},
   "outputs": [
    {
     "ename": "SyntaxError",
     "evalue": "invalid syntax (4151260147.py, line 3)",
     "output_type": "error",
     "traceback": [
      "\u001b[1;36m  Input \u001b[1;32mIn [28]\u001b[1;36m\u001b[0m\n\u001b[1;33m    print (\"My Full Name:\" first,last)\u001b[0m\n\u001b[1;37m                           ^\u001b[0m\n\u001b[1;31mSyntaxError\u001b[0m\u001b[1;31m:\u001b[0m invalid syntax\n"
     ]
    }
   ],
   "source": [
    "first=\"Manik\"\n",
    "last=\"Kumar\"\n",
    "print (\"My Full Name:\" first,last)"
   ]
  },
  {
   "cell_type": "code",
   "execution_count": 29,
   "id": "82f86626",
   "metadata": {},
   "outputs": [
    {
     "name": "stdout",
     "output_type": "stream",
     "text": [
      "My Full Name: Manik Kumar\n"
     ]
    }
   ],
   "source": [
    "first=\"Manik\"\n",
    "last=\"Kumar\"\n",
    "print (\"My Full Name:\",first,last)"
   ]
  },
  {
   "cell_type": "code",
   "execution_count": 1,
   "id": "fce223cd",
   "metadata": {},
   "outputs": [
    {
     "ename": "NameError",
     "evalue": "name 'nstreet' is not defined",
     "output_type": "error",
     "traceback": [
      "\u001b[1;31m---------------------------------------------------------------------------\u001b[0m",
      "\u001b[1;31mNameError\u001b[0m                                 Traceback (most recent call last)",
      "Input \u001b[1;32mIn [1]\u001b[0m, in \u001b[0;36m<cell line: 5>\u001b[1;34m()\u001b[0m\n\u001b[0;32m      3\u001b[0m country\u001b[38;5;241m=\u001b[39m\u001b[38;5;124m\"\u001b[39m\u001b[38;5;124mIndia\u001b[39m\u001b[38;5;124m\"\u001b[39m\n\u001b[0;32m      4\u001b[0m address\u001b[38;5;241m=\u001b[39m\u001b[38;5;124m\"\u001b[39m\u001b[38;5;124mG-264,Rajnagar 2, Palam Colony\u001b[39m\u001b[38;5;124m\"\u001b[39m\n\u001b[1;32m----> 5\u001b[0m \u001b[38;5;28mprint\u001b[39m(address\u001b[38;5;241m/\u001b[39m\u001b[43mnstreet\u001b[49m,city,country)\n",
      "\u001b[1;31mNameError\u001b[0m: name 'nstreet' is not defined"
     ]
    }
   ],
   "source": [
    "street=\"Pandit Chowk\"\n",
    "city=\"New Delhi\"\n",
    "country=\"India\"\n",
    "address=\"G-264,Rajnagar 2, Palam Colony\"\n",
    "print(address/nstreet,city,country)\n"
   ]
  },
  {
   "cell_type": "code",
   "execution_count": 2,
   "id": "c8753c28",
   "metadata": {},
   "outputs": [
    {
     "name": "stdout",
     "output_type": "stream",
     "text": [
      "G-264,Rajnagar 2, Palam Colony Pandit Chowk New Delhi India\n"
     ]
    }
   ],
   "source": [
    "street=\"Pandit Chowk\"\n",
    "city=\"New Delhi\"\n",
    "country=\"India\"\n",
    "address=\"G-264,Rajnagar 2, Palam Colony\"\n",
    "print(address,street,city,country)"
   ]
  },
  {
   "cell_type": "code",
   "execution_count": 3,
   "id": "e6046ed9",
   "metadata": {},
   "outputs": [
    {
     "name": "stdout",
     "output_type": "stream",
     "text": [
      "Pandit Chowk/nNew Delhi/nIndia\n"
     ]
    }
   ],
   "source": [
    "street=\"Pandit Chowk\"\n",
    "city=\"New Delhi\"\n",
    "country=\"India\"\n",
    "address= street+'/n'+city+'/n'+country\n",
    "print(address)\n"
   ]
  },
  {
   "cell_type": "code",
   "execution_count": 4,
   "id": "25ec401b",
   "metadata": {},
   "outputs": [
    {
     "name": "stdout",
     "output_type": "stream",
     "text": [
      "Pandit ChowknNew DelhinIndia\n"
     ]
    }
   ],
   "source": [
    "street=\"Pandit Chowk\"\n",
    "city=\"New Delhi\"\n",
    "country=\"India\"\n",
    "address= street+'n'+city+'n'+country\n",
    "print(address)"
   ]
  },
  {
   "cell_type": "code",
   "execution_count": 5,
   "id": "14331523",
   "metadata": {},
   "outputs": [
    {
     "name": "stdout",
     "output_type": "stream",
     "text": [
      "Address using + operator: Pandit ChowknNew DelhinIndia\n"
     ]
    }
   ],
   "source": [
    "street=\"Pandit Chowk\"\n",
    "city=\"New Delhi\"\n",
    "country=\"India\"\n",
    "address= street+'n'+city+'n'+country\n",
    "print(\"Address using + operator:\",address)"
   ]
  },
  {
   "cell_type": "code",
   "execution_count": 6,
   "id": "43dc182b",
   "metadata": {},
   "outputs": [
    {
     "name": "stdout",
     "output_type": "stream",
     "text": [
      "Address using + operator: Pandit ChowknNew DelhinIndia\n"
     ]
    }
   ],
   "source": [
    "street=\"Pandit Chowk\"\n",
    "city=\"New Delhi\"\n",
    "country=\"India\"\n",
    "address= street+'n'+city+'n'+country\n",
    "print(\"Address using + operator:\",address)\n",
    "address = f'{street}\\n{city}\\n{country}'"
   ]
  },
  {
   "cell_type": "code",
   "execution_count": 7,
   "id": "42d28734",
   "metadata": {},
   "outputs": [
    {
     "name": "stdout",
     "output_type": "stream",
     "text": [
      "Pandit Chowk\n",
      "New Delhi\n",
      "India\n"
     ]
    }
   ],
   "source": [
    "print(address)"
   ]
  },
  {
   "cell_type": "code",
   "execution_count": 8,
   "id": "aab1bae3",
   "metadata": {},
   "outputs": [
    {
     "name": "stdout",
     "output_type": "stream",
     "text": [
      "Thank you\n",
      "Manik\n",
      "Kumar\n"
     ]
    }
   ],
   "source": [
    "greet=\"Thank you\"\n",
    "first=\"Manik\"\n",
    "last=\"Kumar\"\n",
    "message= f'{greet}\\n{first}\\n{last}'\n",
    "print(message)"
   ]
  },
  {
   "cell_type": "code",
   "execution_count": 9,
   "id": "fb1b4d33",
   "metadata": {},
   "outputs": [
    {
     "ename": "SyntaxError",
     "evalue": "unexpected character after line continuation character (2331957166.py, line 4)",
     "output_type": "error",
     "traceback": [
      "\u001b[1;36m  Input \u001b[1;32mIn [9]\u001b[1;36m\u001b[0m\n\u001b[1;33m    message= greet+\\n+first+\\n+{last}'\u001b[0m\n\u001b[1;37m                    ^\u001b[0m\n\u001b[1;31mSyntaxError\u001b[0m\u001b[1;31m:\u001b[0m unexpected character after line continuation character\n"
     ]
    }
   ],
   "source": [
    "greet=\"Thank you\"\n",
    "first=\"Manik\"\n",
    "last=\"Kumar\"\n",
    "message= greet+\\n+first+\\n+{last}'\n",
    "print(message)"
   ]
  },
  {
   "cell_type": "code",
   "execution_count": 10,
   "id": "51931f15",
   "metadata": {},
   "outputs": [
    {
     "name": "stdout",
     "output_type": "stream",
     "text": [
      "Thank you\n",
      "Manik\n",
      "Kumar\n"
     ]
    }
   ],
   "source": [
    "greet=\"Thank you\"\n",
    "first=\"Manik\"\n",
    "last=\"Kumar\"\n",
    "message= greet+'\\n'+first+'\\n'+last\n",
    "print(message)"
   ]
  },
  {
   "cell_type": "code",
   "execution_count": 11,
   "id": "375fb9f4",
   "metadata": {},
   "outputs": [
    {
     "name": "stdout",
     "output_type": "stream",
     "text": [
      "revolves\n",
      "sun\n"
     ]
    }
   ],
   "source": [
    "s='Earth revolves around the sun'\n",
    "print(s[6:14])\n",
    "print(s[-3:])"
   ]
  },
  {
   "cell_type": "code",
   "execution_count": 12,
   "id": "a5e754b8",
   "metadata": {},
   "outputs": [
    {
     "name": "stdout",
     "output_type": "stream",
     "text": [
      " you nigga\n",
      "nigga\n"
     ]
    }
   ],
   "source": [
    "my=\"fuck you nigga\"\n",
    "print(my[4:])\n",
    "print(my[9:14])"
   ]
  },
  {
   "cell_type": "code",
   "execution_count": 13,
   "id": "9e70e587",
   "metadata": {},
   "outputs": [
    {
     "name": "stdout",
     "output_type": "stream",
     "text": [
      "fuck\n",
      "nigga\n"
     ]
    }
   ],
   "source": [
    "my=\"fuck you nigga\"\n",
    "print(my[0:4])\n",
    "print(my[9:14])"
   ]
  },
  {
   "cell_type": "code",
   "execution_count": 14,
   "id": "ce01bf91",
   "metadata": {},
   "outputs": [
    {
     "name": "stdout",
     "output_type": "stream",
     "text": [
      "i eat1fruit and 2 daily\n"
     ]
    }
   ],
   "source": [
    "fruit=1\n",
    "vegis=2\n",
    "print(f'i eat{fruit}fruit and {vegis} daily')"
   ]
  },
  {
   "cell_type": "code",
   "execution_count": 15,
   "id": "220b6273",
   "metadata": {},
   "outputs": [
    {
     "name": "stdout",
     "output_type": "stream",
     "text": [
      "i eat 1 fruit and 2 daily\n"
     ]
    }
   ],
   "source": [
    "fruit=1\n",
    "vegis=2\n",
    "print(f'i eat {fruit} fruit and {vegis} daily')"
   ]
  },
  {
   "cell_type": "code",
   "execution_count": 16,
   "id": "98064424",
   "metadata": {},
   "outputs": [
    {
     "name": "stdout",
     "output_type": "stream",
     "text": [
      "i eat1fruit and 2 vegis daily\n"
     ]
    }
   ],
   "source": [
    "fruit=1\n",
    "vegis=2\n",
    "print(f'i eat{fruit}fruit and {vegis} vegis daily')"
   ]
  },
  {
   "cell_type": "code",
   "execution_count": 17,
   "id": "7133057d",
   "metadata": {},
   "outputs": [
    {
     "name": "stdout",
     "output_type": "stream",
     "text": [
      "i eat 1 fruit and 2 vegis daily\n"
     ]
    }
   ],
   "source": [
    "fruit=1\n",
    "vegis=2\n",
    "print(f'i eat {fruit} fruit and {vegis} vegis daily')"
   ]
  },
  {
   "cell_type": "code",
   "execution_count": 18,
   "id": "9c77624e",
   "metadata": {},
   "outputs": [],
   "source": [
    "s=\"maine 100 kale kahye\"\n"
   ]
  },
  {
   "cell_type": "code",
   "execution_count": 19,
   "id": "5e61a984",
   "metadata": {},
   "outputs": [
    {
     "name": "stdout",
     "output_type": "stream",
     "text": [
      "maine 100 kale kahye\n"
     ]
    }
   ],
   "source": [
    "print(s)"
   ]
  },
  {
   "cell_type": "code",
   "execution_count": 20,
   "id": "dc313575",
   "metadata": {},
   "outputs": [
    {
     "name": "stdout",
     "output_type": "stream",
     "text": [
      "<built-in method replace of str object at 0x0000025EC790DC60>\n"
     ]
    }
   ],
   "source": [
    "s.replace(\"100 kale\",\"10 samosa\")\n",
    "print(s.replace)"
   ]
  },
  {
   "cell_type": "code",
   "execution_count": 21,
   "id": "6fd437df",
   "metadata": {},
   "outputs": [
    {
     "name": "stdout",
     "output_type": "stream",
     "text": [
      "maine 10 samosa kahye\n"
     ]
    }
   ],
   "source": [
    "s=s.replace(\"100 kale\",\"10 samosa\")\n",
    "print(s)"
   ]
  },
  {
   "cell_type": "code",
   "execution_count": 22,
   "id": "3ddf1400",
   "metadata": {},
   "outputs": [
    {
     "name": "stdout",
     "output_type": "stream",
     "text": [
      "maine 10 samose kahye\n"
     ]
    }
   ],
   "source": [
    "s.replace(\"samosa\",\"samose\")\n",
    "s=s.replace(\"samosa\",\"samose\")\n",
    "print(s)"
   ]
  },
  {
   "cell_type": "code",
   "execution_count": 23,
   "id": "468802b3",
   "metadata": {},
   "outputs": [
    {
     "name": "stdout",
     "output_type": "stream",
     "text": [
      "maine 10 samose kahye\n"
     ]
    }
   ],
   "source": [
    "s.replace(\"samose\",\"samosa\")\n",
    "\n",
    "print(s)"
   ]
  },
  {
   "cell_type": "code",
   "execution_count": 24,
   "id": "4545a23e",
   "metadata": {},
   "outputs": [
    {
     "name": "stdout",
     "output_type": "stream",
     "text": [
      "maine 10 samosa kahye\n"
     ]
    }
   ],
   "source": [
    "\n",
    "s=s.replace(\"samose\",\"samosa\")\n",
    "print(s)"
   ]
  },
  {
   "cell_type": "code",
   "execution_count": 1,
   "id": "8d7b63a4",
   "metadata": {},
   "outputs": [
    {
     "data": {
      "text/plain": [
       "['2200', '2350', '2600', '2130', '2190']"
      ]
     },
     "execution_count": 1,
     "metadata": {},
     "output_type": "execute_result"
    }
   ],
   "source": [
    "exp=['2200','2350','2600','2130','2190']\n",
    "exp"
   ]
  },
  {
   "cell_type": "code",
   "execution_count": 2,
   "id": "451609fd",
   "metadata": {},
   "outputs": [
    {
     "data": {
      "text/plain": [
       "[2200, 2350, 2600, 2130, 2190]"
      ]
     },
     "execution_count": 2,
     "metadata": {},
     "output_type": "execute_result"
    }
   ],
   "source": [
    "exp=[2200,2350,2600,2130,2190]\n",
    "exp"
   ]
  },
  {
   "cell_type": "code",
   "execution_count": 3,
   "id": "f2996b35",
   "metadata": {},
   "outputs": [
    {
     "ename": "SyntaxError",
     "evalue": "invalid syntax (1011181123.py, line 1)",
     "output_type": "error",
     "traceback": [
      "\u001b[1;36m  Input \u001b[1;32mIn [3]\u001b[1;36m\u001b[0m\n\u001b[1;33m    extra spend=2350-2200\u001b[0m\n\u001b[1;37m          ^\u001b[0m\n\u001b[1;31mSyntaxError\u001b[0m\u001b[1;31m:\u001b[0m invalid syntax\n"
     ]
    }
   ],
   "source": [
    "extra spend=2350-2200"
   ]
  },
  {
   "cell_type": "code",
   "execution_count": 5,
   "id": "9e335b67",
   "metadata": {},
   "outputs": [],
   "source": [
    "spend=2350-2200"
   ]
  },
  {
   "cell_type": "code",
   "execution_count": 6,
   "id": "cfc89c0f",
   "metadata": {},
   "outputs": [
    {
     "data": {
      "text/plain": [
       "150"
      ]
     },
     "execution_count": 6,
     "metadata": {},
     "output_type": "execute_result"
    }
   ],
   "source": [
    "spend"
   ]
  },
  {
   "cell_type": "code",
   "execution_count": 9,
   "id": "f1e4e5fc",
   "metadata": {},
   "outputs": [
    {
     "name": "stdout",
     "output_type": "stream",
     "text": [
      "Total expense in first 3 months is 7150\n"
     ]
    }
   ],
   "source": [
    "print(\"Total expense in first 3 months is\", exp[0]+exp[1]+exp[2])"
   ]
  },
  {
   "cell_type": "code",
   "execution_count": 10,
   "id": "d621aa24",
   "metadata": {},
   "outputs": [
    {
     "ename": "TypeError",
     "evalue": "'exp' is an invalid keyword argument for print()",
     "output_type": "error",
     "traceback": [
      "\u001b[1;31m---------------------------------------------------------------------------\u001b[0m",
      "\u001b[1;31mTypeError\u001b[0m                                 Traceback (most recent call last)",
      "Input \u001b[1;32mIn [10]\u001b[0m, in \u001b[0;36m<cell line: 1>\u001b[1;34m()\u001b[0m\n\u001b[1;32m----> 1\u001b[0m \u001b[38;5;28;43mprint\u001b[39;49m\u001b[43m(\u001b[49m\u001b[43mexp\u001b[49m\u001b[38;5;241;43m=\u001b[39;49m\u001b[43m[\u001b[49m\u001b[38;5;241;43m2000\u001b[39;49m\u001b[43m]\u001b[49m\u001b[43m)\u001b[49m\n",
      "\u001b[1;31mTypeError\u001b[0m: 'exp' is an invalid keyword argument for print()"
     ]
    }
   ],
   "source": [
    "print(exp=[2000])"
   ]
  },
  {
   "cell_type": "code",
   "execution_count": 11,
   "id": "3bee0d91",
   "metadata": {},
   "outputs": [
    {
     "name": "stdout",
     "output_type": "stream",
     "text": [
      "False\n"
     ]
    }
   ],
   "source": [
    "print (2000 in exp)"
   ]
  },
  {
   "cell_type": "code",
   "execution_count": 12,
   "id": "766bdf0f",
   "metadata": {},
   "outputs": [],
   "source": [
    "exp.append(1980)"
   ]
  },
  {
   "cell_type": "code",
   "execution_count": 13,
   "id": "3b2e8f41",
   "metadata": {},
   "outputs": [
    {
     "data": {
      "text/plain": [
       "[2200, 2350, 2600, 2130, 2190, 1980]"
      ]
     },
     "execution_count": 13,
     "metadata": {},
     "output_type": "execute_result"
    }
   ],
   "source": [
    "exp"
   ]
  },
  {
   "cell_type": "code",
   "execution_count": 14,
   "id": "beb71d38",
   "metadata": {},
   "outputs": [
    {
     "name": "stdout",
     "output_type": "stream",
     "text": [
      "1930\n"
     ]
    }
   ],
   "source": [
    "print(exp[-3]-200)"
   ]
  },
  {
   "cell_type": "code",
   "execution_count": 15,
   "id": "735262ce",
   "metadata": {},
   "outputs": [
    {
     "data": {
      "text/plain": [
       "[2200, 2350, 2600, 2130, 2190, 1980]"
      ]
     },
     "execution_count": 15,
     "metadata": {},
     "output_type": "execute_result"
    }
   ],
   "source": [
    "exp"
   ]
  },
  {
   "cell_type": "code",
   "execution_count": 16,
   "id": "bb799231",
   "metadata": {},
   "outputs": [
    {
     "data": {
      "text/plain": [
       "[2200, 2350, 2600, 1930, 2190, 1980]"
      ]
     },
     "execution_count": 16,
     "metadata": {},
     "output_type": "execute_result"
    }
   ],
   "source": [
    "exp[-3]=1930\n",
    "exp"
   ]
  },
  {
   "cell_type": "code",
   "execution_count": 17,
   "id": "6d0ae1c9",
   "metadata": {},
   "outputs": [
    {
     "data": {
      "text/plain": [
       "5"
      ]
     },
     "execution_count": 17,
     "metadata": {},
     "output_type": "execute_result"
    }
   ],
   "source": [
    "heros=['spiderman','thor','hulk','ironman','captain america']\n",
    "len(heros)\n"
   ]
  },
  {
   "cell_type": "code",
   "execution_count": 19,
   "id": "e6e98d78",
   "metadata": {},
   "outputs": [],
   "source": [
    "heros.append('black panther')"
   ]
  },
  {
   "cell_type": "code",
   "execution_count": 20,
   "id": "5bf32239",
   "metadata": {},
   "outputs": [
    {
     "data": {
      "text/plain": [
       "['spiderman',\n",
       " 'thor',\n",
       " 'hulk',\n",
       " 'ironman',\n",
       " 'captain america',\n",
       " 'black panther',\n",
       " 'black panther']"
      ]
     },
     "execution_count": 20,
     "metadata": {},
     "output_type": "execute_result"
    }
   ],
   "source": [
    "heros"
   ]
  },
  {
   "cell_type": "code",
   "execution_count": 25,
   "id": "eb2e5c34",
   "metadata": {},
   "outputs": [],
   "source": [
    "heros.remove('black panther')"
   ]
  },
  {
   "cell_type": "code",
   "execution_count": 26,
   "id": "b815c2f9",
   "metadata": {},
   "outputs": [
    {
     "data": {
      "text/plain": [
       "['spiderman', 'thor', 'hulk', 'ironman', 'captain america', 'black panther']"
      ]
     },
     "execution_count": 26,
     "metadata": {},
     "output_type": "execute_result"
    }
   ],
   "source": [
    "heros"
   ]
  },
  {
   "cell_type": "code",
   "execution_count": 27,
   "id": "5848c1bf",
   "metadata": {},
   "outputs": [
    {
     "data": {
      "text/plain": [
       "['spiderman', 'thor', 'hulk', 'ironman', 'captain america']"
      ]
     },
     "execution_count": 27,
     "metadata": {},
     "output_type": "execute_result"
    }
   ],
   "source": [
    "heros.remove('black panther') \n",
    "heros"
   ]
  },
  {
   "cell_type": "code",
   "execution_count": 28,
   "id": "01b097b3",
   "metadata": {},
   "outputs": [],
   "source": [
    "heros.insert(2,'black panther')"
   ]
  },
  {
   "cell_type": "code",
   "execution_count": 29,
   "id": "5daceb81",
   "metadata": {},
   "outputs": [
    {
     "data": {
      "text/plain": [
       "['spiderman', 'thor', 'black panther', 'hulk', 'ironman', 'captain america']"
      ]
     },
     "execution_count": 29,
     "metadata": {},
     "output_type": "execute_result"
    }
   ],
   "source": [
    "heros"
   ]
  },
  {
   "cell_type": "code",
   "execution_count": 30,
   "id": "345ce5e4",
   "metadata": {},
   "outputs": [],
   "source": [
    "heros.remove('black panther')\n",
    "heros.insert(3,'black panther')"
   ]
  },
  {
   "cell_type": "code",
   "execution_count": 31,
   "id": "3517aa1a",
   "metadata": {},
   "outputs": [
    {
     "data": {
      "text/plain": [
       "['spiderman', 'thor', 'hulk', 'black panther', 'ironman', 'captain america']"
      ]
     },
     "execution_count": 31,
     "metadata": {},
     "output_type": "execute_result"
    }
   ],
   "source": [
    "heros"
   ]
  },
  {
   "cell_type": "code",
   "execution_count": 32,
   "id": "04740f1a",
   "metadata": {},
   "outputs": [],
   "source": [
    "heros[1:3]=['doc strange']"
   ]
  },
  {
   "cell_type": "code",
   "execution_count": 33,
   "id": "4d899474",
   "metadata": {},
   "outputs": [
    {
     "data": {
      "text/plain": [
       "['spiderman', 'doc strange', 'black panther', 'ironman', 'captain america']"
      ]
     },
     "execution_count": 33,
     "metadata": {},
     "output_type": "execute_result"
    }
   ],
   "source": [
    "heros"
   ]
  },
  {
   "cell_type": "code",
   "execution_count": 34,
   "id": "6de1f50d",
   "metadata": {},
   "outputs": [],
   "source": [
    "heros[1:4]=['dox strange']"
   ]
  },
  {
   "cell_type": "code",
   "execution_count": 35,
   "id": "a56b31f0",
   "metadata": {},
   "outputs": [
    {
     "data": {
      "text/plain": [
       "['spiderman', 'dox strange', 'captain america']"
      ]
     },
     "execution_count": 35,
     "metadata": {},
     "output_type": "execute_result"
    }
   ],
   "source": [
    "heros"
   ]
  },
  {
   "cell_type": "code",
   "execution_count": 36,
   "id": "eaae31cf",
   "metadata": {},
   "outputs": [
    {
     "data": {
      "text/plain": [
       "['spiderman', 'dox strange', 'captain america']"
      ]
     },
     "execution_count": 36,
     "metadata": {},
     "output_type": "execute_result"
    }
   ],
   "source": [
    "heros"
   ]
  },
  {
   "cell_type": "code",
   "execution_count": 37,
   "id": "e25ccd59",
   "metadata": {},
   "outputs": [],
   "source": [
    "heros=['spiderman','thor','hulk','ironman','captain america']"
   ]
  },
  {
   "cell_type": "code",
   "execution_count": 38,
   "id": "13c5df19",
   "metadata": {},
   "outputs": [],
   "source": [
    "heros.insert(3,'black panther')"
   ]
  },
  {
   "cell_type": "code",
   "execution_count": 39,
   "id": "9b4a6343",
   "metadata": {},
   "outputs": [],
   "source": [
    "heros[1:3]=['doc strange']"
   ]
  },
  {
   "cell_type": "code",
   "execution_count": 40,
   "id": "5e7aad56",
   "metadata": {},
   "outputs": [
    {
     "data": {
      "text/plain": [
       "['spiderman', 'doc strange', 'black panther', 'ironman', 'captain america']"
      ]
     },
     "execution_count": 40,
     "metadata": {},
     "output_type": "execute_result"
    }
   ],
   "source": [
    "heros"
   ]
  },
  {
   "cell_type": "code",
   "execution_count": 41,
   "id": "2bb01b1e",
   "metadata": {},
   "outputs": [
    {
     "data": {
      "text/plain": [
       "<function list.sort(*, key=None, reverse=False)>"
      ]
     },
     "execution_count": 41,
     "metadata": {},
     "output_type": "execute_result"
    }
   ],
   "source": [
    "heros.sort"
   ]
  },
  {
   "cell_type": "code",
   "execution_count": 42,
   "id": "fa1afb68",
   "metadata": {},
   "outputs": [
    {
     "ename": "SyntaxError",
     "evalue": "invalid syntax (497982647.py, line 1)",
     "output_type": "error",
     "traceback": [
      "\u001b[1;36m  Input \u001b[1;32mIn [42]\u001b[1;36m\u001b[0m\n\u001b[1;33m    heros.sort(*)\u001b[0m\n\u001b[1;37m                ^\u001b[0m\n\u001b[1;31mSyntaxError\u001b[0m\u001b[1;31m:\u001b[0m invalid syntax\n"
     ]
    }
   ],
   "source": [
    "heros.sort(*)"
   ]
  },
  {
   "cell_type": "code",
   "execution_count": 43,
   "id": "460f7dbb",
   "metadata": {},
   "outputs": [
    {
     "data": {
      "text/plain": [
       "['__add__',\n",
       " '__class__',\n",
       " '__class_getitem__',\n",
       " '__contains__',\n",
       " '__delattr__',\n",
       " '__delitem__',\n",
       " '__dir__',\n",
       " '__doc__',\n",
       " '__eq__',\n",
       " '__format__',\n",
       " '__ge__',\n",
       " '__getattribute__',\n",
       " '__getitem__',\n",
       " '__gt__',\n",
       " '__hash__',\n",
       " '__iadd__',\n",
       " '__imul__',\n",
       " '__init__',\n",
       " '__init_subclass__',\n",
       " '__iter__',\n",
       " '__le__',\n",
       " '__len__',\n",
       " '__lt__',\n",
       " '__mul__',\n",
       " '__ne__',\n",
       " '__new__',\n",
       " '__reduce__',\n",
       " '__reduce_ex__',\n",
       " '__repr__',\n",
       " '__reversed__',\n",
       " '__rmul__',\n",
       " '__setattr__',\n",
       " '__setitem__',\n",
       " '__sizeof__',\n",
       " '__str__',\n",
       " '__subclasshook__',\n",
       " 'append',\n",
       " 'clear',\n",
       " 'copy',\n",
       " 'count',\n",
       " 'extend',\n",
       " 'index',\n",
       " 'insert',\n",
       " 'pop',\n",
       " 'remove',\n",
       " 'reverse',\n",
       " 'sort']"
      ]
     },
     "execution_count": 43,
     "metadata": {},
     "output_type": "execute_result"
    }
   ],
   "source": [
    "dir(heros)"
   ]
  },
  {
   "cell_type": "code",
   "execution_count": 45,
   "id": "56ba268a",
   "metadata": {},
   "outputs": [
    {
     "data": {
      "text/plain": [
       "0"
      ]
     },
     "execution_count": 45,
     "metadata": {},
     "output_type": "execute_result"
    }
   ],
   "source": [
    "heros.count(2)"
   ]
  },
  {
   "cell_type": "code",
   "execution_count": 46,
   "id": "7b02287a",
   "metadata": {},
   "outputs": [
    {
     "data": {
      "text/plain": [
       "0"
      ]
     },
     "execution_count": 46,
     "metadata": {},
     "output_type": "execute_result"
    }
   ],
   "source": [
    "heros.count(3)"
   ]
  },
  {
   "cell_type": "code",
   "execution_count": 48,
   "id": "289044d4",
   "metadata": {},
   "outputs": [
    {
     "data": {
      "text/plain": [
       "<function list.sort(*, key=None, reverse=False)>"
      ]
     },
     "execution_count": 48,
     "metadata": {},
     "output_type": "execute_result"
    }
   ],
   "source": [
    "heros.sort"
   ]
  },
  {
   "cell_type": "code",
   "execution_count": 50,
   "id": "19ebdb99",
   "metadata": {},
   "outputs": [],
   "source": [
    "list.sort(heros)"
   ]
  },
  {
   "cell_type": "code",
   "execution_count": 51,
   "id": "0fa43e1d",
   "metadata": {},
   "outputs": [
    {
     "data": {
      "text/plain": [
       "['black panther', 'captain america', 'doc strange', 'ironman', 'spiderman']"
      ]
     },
     "execution_count": 51,
     "metadata": {},
     "output_type": "execute_result"
    }
   ],
   "source": [
    "heros"
   ]
  },
  {
   "cell_type": "code",
   "execution_count": 53,
   "id": "bccadd96",
   "metadata": {},
   "outputs": [
    {
     "data": {
      "text/plain": [
       "True"
      ]
     },
     "execution_count": 53,
     "metadata": {},
     "output_type": "execute_result"
    }
   ],
   "source": [
    "'spiderman' in heros"
   ]
  },
  {
   "cell_type": "code",
   "execution_count": null,
   "id": "432d9b49",
   "metadata": {},
   "outputs": [],
   "source": [
    "Indian = [\"delhi\",\"mumbai\",\"chennai\",\"gujrat\"]\n",
    "pakistan = [\"lahore\",\"karachi\",\"islamabad\"]\n",
    "bangladesh = [\"dhaka\",\"rangpur\",\"khulna\"]\n",
    "city = input(\"Enter city name:\")\n",
    "city2 = input(\"Enter city name:\")\n",
    "if city in Indian and city2 in Indian:\n",
    " print (\"they both are in INDIA\")\n",
    "elif city in pakistan and city2 in pakistan:\n",
    " print (\"they both are in pakistan\")\n",
    "elif city in bangladesh and city2 in bangladesh:\n",
    " print (\"they both are in bagladesh\")\n",
    "else:\n",
    " print (\"they both are not in same country\")\n",
    "              \n"
   ]
  },
  {
   "cell_type": "code",
   "execution_count": null,
   "id": "0c30537c",
   "metadata": {},
   "outputs": [],
   "source": []
  },
  {
   "cell_type": "code",
   "execution_count": null,
   "id": "d78803cb",
   "metadata": {},
   "outputs": [],
   "source": []
  },
  {
   "cell_type": "code",
   "execution_count": null,
   "id": "1a397214",
   "metadata": {},
   "outputs": [],
   "source": [
    "sugar = input(\"enter your sugar level:\")\n",
    "sugar = float(sugar)\n",
    "if sugar<80:\n",
    " print(\"your sugar level is LOW\")\n",
    "elif sugar>100:\n",
    "    \n",
    " print(\"your sugar level is HIGH\")\n",
    "else:\n",
    " print(\"your sugar level is NORMAL\")\n",
    "    message = \"sugar low\" if sugar<80 elif>100 \"sugar high\" else \"Noraml\"\n",
    "    "
   ]
  },
  {
   "cell_type": "code",
   "execution_count": null,
   "id": "0c724aec",
   "metadata": {},
   "outputs": [],
   "source": []
  },
  {
   "cell_type": "code",
   "execution_count": null,
   "id": "80bcdc7e",
   "metadata": {},
   "outputs": [],
   "source": []
  },
  {
   "cell_type": "code",
   "execution_count": null,
   "id": "4e89a4f1",
   "metadata": {},
   "outputs": [],
   "source": []
  },
  {
   "cell_type": "code",
   "execution_count": 5,
   "id": "f94b50bd",
   "metadata": {},
   "outputs": [
    {
     "name": "stdout",
     "output_type": "stream",
     "text": [
      "enter your sugar level:50\n",
      "sugar low\n"
     ]
    }
   ],
   "source": [
    "sugar = input(\"enter your sugar level:\")\n",
    "sugar = float(sugar)\n",
    "message = \"sugar low\" if sugar<80 else \"Noraml\"\n",
    "print(message)"
   ]
  },
  {
   "cell_type": "code",
   "execution_count": null,
   "id": "5fd2d4b2",
   "metadata": {},
   "outputs": [],
   "source": []
  },
  {
   "cell_type": "code",
   "execution_count": null,
   "id": "0464bda0",
   "metadata": {},
   "outputs": [],
   "source": []
  },
  {
   "cell_type": "code",
   "execution_count": null,
   "id": "6c78ab66",
   "metadata": {},
   "outputs": [],
   "source": []
  },
  {
   "cell_type": "code",
   "execution_count": null,
   "id": "a488f00a",
   "metadata": {},
   "outputs": [],
   "source": []
  },
  {
   "cell_type": "code",
   "execution_count": null,
   "id": "b4850e39",
   "metadata": {},
   "outputs": [],
   "source": [
    "2==2"
   ]
  },
  {
   "cell_type": "code",
   "execution_count": null,
   "id": "3e282994",
   "metadata": {},
   "outputs": [],
   "source": [
    "2+2"
   ]
  },
  {
   "cell_type": "code",
   "execution_count": 1,
   "id": "68fbf3e5",
   "metadata": {},
   "outputs": [
    {
     "data": {
      "text/plain": [
       "4"
      ]
     },
     "execution_count": 1,
     "metadata": {},
     "output_type": "execute_result"
    }
   ],
   "source": [
    "2+2"
   ]
  },
  {
   "cell_type": "code",
   "execution_count": 1,
   "id": "751b9e99",
   "metadata": {},
   "outputs": [
    {
     "data": {
      "text/plain": [
       "6"
      ]
     },
     "execution_count": 1,
     "metadata": {},
     "output_type": "execute_result"
    }
   ],
   "source": [
    "\"hello Mike\".find(\"Mike\")"
   ]
  },
  {
   "cell_type": "code",
   "execution_count": 1,
   "id": "05085137",
   "metadata": {},
   "outputs": [
    {
     "data": {
      "text/plain": [
       "dict"
      ]
     },
     "execution_count": 1,
     "metadata": {},
     "output_type": "execute_result"
    }
   ],
   "source": [
    "country={}\n",
    "type(country)"
   ]
  },
  {
   "cell_type": "code",
   "execution_count": 3,
   "id": "be74beff",
   "metadata": {},
   "outputs": [],
   "source": [
    "country={\"China\":143,\n",
    "        \"India\":136,\n",
    "        \"USA\":32,\n",
    "        \"Pakistan\":21\n",
    "        }"
   ]
  },
  {
   "cell_type": "code",
   "execution_count": 4,
   "id": "34ba8fd4",
   "metadata": {},
   "outputs": [
    {
     "data": {
      "text/plain": [
       "{'China': 143, 'India': 136, 'USA': 32, 'Pakistan': 21}"
      ]
     },
     "execution_count": 4,
     "metadata": {},
     "output_type": "execute_result"
    }
   ],
   "source": [
    "country"
   ]
  },
  {
   "cell_type": "code",
   "execution_count": 9,
   "id": "b01071d5",
   "metadata": {},
   "outputs": [
    {
     "name": "stdout",
     "output_type": "stream",
     "text": [
      "China ==> 143\n",
      "India ==> 136\n",
      "USA ==> 32\n",
      "Pakistan ==> 21\n"
     ]
    }
   ],
   "source": [
    "for name,pop in country.items():\n",
    "    print(name,\"==>\",pop)"
   ]
  },
  {
   "cell_type": "code",
   "execution_count": 11,
   "id": "147e5ac6",
   "metadata": {},
   "outputs": [
    {
     "name": "stdout",
     "output_type": "stream",
     "text": [
      "China ==> 143\n",
      "India ==> 136\n",
      "USA ==> 32\n",
      "Pakistan ==> 21\n"
     ]
    }
   ],
   "source": [
    "for name in country:\n",
    "    print(name,\"==>\",country[name])"
   ]
  },
  {
   "cell_type": "code",
   "execution_count": null,
   "id": "db928ce4",
   "metadata": {},
   "outputs": [],
   "source": [
    "def add():\n",
    "    country=input(\"Enter country name to add:\")\n",
    "    country=country.lower()\n",
    "    if country in pop:\n",
    "        print(\"Country already exist in our dataset. Terminating\")\n",
    "        return\n",
    "    p=input(f\"Enter population for {country}\")\n",
    "    p=float(p)\n",
    "    population[country]=p # Adds new key value pair to dictionary\n",
    "    print_all()\n",
    "\n",
    "def remove():\n",
    "    country = input(\"Enter country name to remove:\")\n",
    "    country = country.lower()\n",
    "    if country not in population:\n",
    "        print(\"Country doesn't exist in our dataset. Terminating\")\n",
    "        return\n",
    "    del population[country]\n",
    "    print_all()\n",
    "\n",
    "def query():\n",
    "    country = input(\"Enter country name to query:\")\n",
    "    country = country.lower()\n",
    "    if country not in pop:\n",
    "        print(\"Country doesn't exist in our dataset. Terminating\")\n",
    "        return\n",
    "    print(f\"Population of {country} is: {pop[country]} crore\")\n",
    "\n",
    "def print_all():\n",
    "    for country, p in pop.items():\n",
    "        print(f\"{country}==>{p}\")\n",
    "\n",
    "def main():\n",
    "    op=input(\"Enter operation (add, remove, query or print):\")\n",
    "    if op.lower() == 'add':\n",
    "        add()\n",
    "    elif op.lower() == 'remove':\n",
    "        remove()\n",
    "    elif op.lower() == 'query':\n",
    "        query()\n",
    "    elif op.lower() == 'print':\n",
    "        print_all()\n",
    "\n",
    "if __name__ == '__main__':\n",
    "    main()"
   ]
  },
  {
   "cell_type": "code",
   "execution_count": null,
   "id": "bc328023",
   "metadata": {},
   "outputs": [],
   "source": [
    "def add():\n",
    "    nam = input(\"Enter name\")\n",
    "    if nam in country:\n",
    "        print(\"already exist\")\n",
    "        return nam\n",
    "    p=int(input(\"Enter population\"))\n",
    "    country[nam]\n",
    "    print(name,\"==>\",nam)\n",
    "    "
   ]
  },
  {
   "cell_type": "code",
   "execution_count": 1,
   "id": "8b58a115",
   "metadata": {},
   "outputs": [
    {
     "name": "stdout",
     "output_type": "stream",
     "text": [
      "Enter Rating5\n",
      "Bye\n"
     ]
    }
   ],
   "source": [
    "a=float(input(\"Enter Rating\"))\n",
    "if a>8:\n",
    "    print(\"This album is Amazing!\")\n",
    "else:\n",
    "    print(\"Bye\")"
   ]
  },
  {
   "cell_type": "code",
   "execution_count": 5,
   "id": "78479904",
   "metadata": {},
   "outputs": [
    {
     "name": "stdout",
     "output_type": "stream",
     "text": [
      "9\n",
      "11\n",
      "13\n",
      "15\n",
      "17\n",
      "19\n",
      "21\n",
      "23\n",
      "25\n",
      "27\n",
      "29\n",
      "31\n",
      "33\n",
      "35\n",
      "37\n",
      "39\n",
      "41\n",
      "43\n",
      "45\n",
      "47\n",
      "49\n",
      "51\n"
     ]
    }
   ],
   "source": [
    "for i in range(9,52,2):\n",
    "    print(i)"
   ]
  },
  {
   "cell_type": "code",
   "execution_count": 1,
   "id": "5c2f3cfb",
   "metadata": {},
   "outputs": [
    {
     "data": {
      "text/plain": [
       "[1, 2, 3]"
      ]
     },
     "execution_count": 1,
     "metadata": {},
     "output_type": "execute_result"
    }
   ],
   "source": [
    "L=[1,3,2]\n",
    "\n",
    "sorted(L)"
   ]
  },
  {
   "cell_type": "code",
   "execution_count": 2,
   "id": "2c86cce4",
   "metadata": {},
   "outputs": [
    {
     "data": {
      "text/plain": [
       "[1, 3, 2]"
      ]
     },
     "execution_count": 2,
     "metadata": {},
     "output_type": "execute_result"
    }
   ],
   "source": [
    "L\n"
   ]
  },
  {
   "cell_type": "code",
   "execution_count": 16,
   "id": "d098d0c1",
   "metadata": {},
   "outputs": [
    {
     "data": {
      "text/plain": [
       "array([[4, 7],\n",
       "       [5, 8]])"
      ]
     },
     "execution_count": 16,
     "metadata": {},
     "output_type": "execute_result"
    }
   ],
   "source": [
    "import numpy as np\n",
    "a = np.array([[1,3],[1,4]])\n",
    "b= np.array([[1,4],[1,1]])\n",
    "a.dot(b)\n"
   ]
  },
  {
   "cell_type": "code",
   "execution_count": 1,
   "id": "b68be3c1",
   "metadata": {
    "scrolled": true
   },
   "outputs": [
    {
     "data": {
      "text/plain": [
       "'C:\\\\Users\\\\krman'"
      ]
     },
     "execution_count": 1,
     "metadata": {},
     "output_type": "execute_result"
    }
   ],
   "source": [
    "pwd"
   ]
  },
  {
   "cell_type": "code",
   "execution_count": 1,
   "id": "d4ffcd28",
   "metadata": {},
   "outputs": [
    {
     "name": "stdout",
     "output_type": "stream",
     "text": [
      "Package                       Version\n",
      "----------------------------- --------------------\n",
      "aiohttp                       3.8.1\n",
      "aiosignal                     1.2.0\n",
      "alabaster                     0.7.12\n",
      "anaconda-client               1.9.0\n",
      "anaconda-navigator            2.2.0\n",
      "anaconda-project              0.10.2\n",
      "anyio                         3.5.0\n",
      "appdirs                       1.4.4\n",
      "argon2-cffi                   21.3.0\n",
      "argon2-cffi-bindings          21.2.0\n",
      "arrow                         1.2.2\n",
      "astroid                       2.6.6\n",
      "astropy                       5.0.4\n",
      "asttokens                     2.0.5\n",
      "async-timeout                 4.0.1\n",
      "atomicwrites                  1.4.0\n",
      "attrs                         21.4.0\n",
      "Automat                       20.2.0\n",
      "autopep8                      1.6.0\n",
      "Babel                         2.9.1\n",
      "backcall                      0.2.0\n",
      "backports.functools-lru-cache 1.6.4\n",
      "backports.tempfile            1.0\n",
      "backports.weakref             1.0.post1\n",
      "bcrypt                        3.2.0\n",
      "beautifulsoup4                4.11.1\n",
      "binaryornot                   0.4.4\n",
      "bitarray                      2.4.1\n",
      "bkcharts                      0.2\n",
      "black                         19.10b0\n",
      "bleach                        4.1.0\n",
      "bokeh                         2.4.2\n",
      "boto3                         1.21.32\n",
      "botocore                      1.24.32\n",
      "Bottleneck                    1.3.4\n",
      "brotlipy                      0.7.0\n",
      "cachetools                    4.2.2\n",
      "certifi                       2021.10.8\n",
      "cffi                          1.15.0\n",
      "chardet                       4.0.0\n",
      "charset-normalizer            2.0.4\n",
      "click                         8.0.4\n",
      "cloudpickle                   2.0.0\n",
      "clyent                        1.2.2\n",
      "colorama                      0.4.4\n",
      "colorcet                      2.0.6\n",
      "comtypes                      1.1.10\n",
      "conda                         4.13.0\n",
      "conda-build                   3.21.8\n",
      "conda-content-trust           0+unknown\n",
      "conda-pack                    0.6.0\n",
      "conda-package-handling        1.8.1\n",
      "conda-repo-cli                1.0.4\n",
      "conda-token                   0.3.0\n",
      "conda-verify                  3.4.2\n",
      "constantly                    15.1.0\n",
      "cookiecutter                  1.7.3\n",
      "cryptography                  3.4.8\n",
      "cssselect                     1.1.0\n",
      "cycler                        0.11.0\n",
      "Cython                        0.29.28\n",
      "cytoolz                       0.11.0\n",
      "daal4py                       2021.5.0\n",
      "dask                          2022.2.1\n",
      "datashader                    0.13.0\n",
      "datashape                     0.5.4\n",
      "debugpy                       1.5.1\n",
      "decorator                     5.1.1\n",
      "defusedxml                    0.7.1\n",
      "diff-match-patch              20200713\n",
      "distributed                   2022.2.1\n",
      "docutils                      0.17.1\n",
      "entrypoints                   0.4\n",
      "et-xmlfile                    1.1.0\n",
      "executing                     0.8.3\n",
      "fastjsonschema                2.15.1\n",
      "filelock                      3.6.0\n",
      "flake8                        3.9.2\n",
      "Flask                         1.1.2\n",
      "fonttools                     4.25.0\n",
      "frozenlist                    1.2.0\n",
      "fsspec                        2022.2.0\n",
      "future                        0.18.2\n",
      "gensim                        4.1.2\n",
      "glob2                         0.7\n",
      "google-api-core               1.25.1\n",
      "google-auth                   1.33.0\n",
      "google-cloud-core             1.7.1\n",
      "google-cloud-storage          1.31.0\n",
      "google-crc32c                 1.1.2\n",
      "google-resumable-media        1.3.1\n",
      "googleapis-common-protos      1.53.0\n",
      "greenlet                      1.1.1\n",
      "grpcio                        1.42.0\n",
      "h5py                          3.6.0\n",
      "HeapDict                      1.0.1\n",
      "holoviews                     1.14.8\n",
      "hvplot                        0.7.3\n",
      "hyperlink                     21.0.0\n",
      "idna                          3.3\n",
      "imagecodecs                   2021.8.26\n",
      "imageio                       2.9.0\n",
      "imagesize                     1.3.0\n",
      "importlib-metadata            4.11.3\n",
      "incremental                   21.3.0\n",
      "inflection                    0.5.1\n",
      "iniconfig                     1.1.1\n",
      "intake                        0.6.5\n",
      "intervaltree                  3.1.0\n",
      "ipykernel                     6.9.1\n",
      "ipython                       8.2.0\n",
      "ipython-genutils              0.2.0\n",
      "ipywidgets                    7.6.5\n",
      "isort                         5.9.3\n",
      "itemadapter                   0.3.0\n",
      "itemloaders                   1.0.4\n",
      "itsdangerous                  2.0.1\n",
      "jdcal                         1.4.1\n",
      "jedi                          0.18.1\n",
      "Jinja2                        2.11.3\n",
      "jinja2-time                   0.2.0\n",
      "jmespath                      0.10.0\n",
      "joblib                        1.1.0\n",
      "json5                         0.9.6\n",
      "jsonschema                    4.4.0\n",
      "jupyter                       1.0.0\n",
      "jupyter-client                6.1.12\n",
      "jupyter-console               6.4.0\n",
      "jupyter-core                  4.9.2\n",
      "jupyter-server                1.13.5\n",
      "jupyterlab                    3.3.2\n",
      "jupyterlab-pygments           0.1.2\n",
      "jupyterlab-server             2.10.3\n",
      "jupyterlab-widgets            1.0.0\n",
      "keyring                       23.4.0\n",
      "kiwisolver                    1.3.2\n",
      "lazy-object-proxy             1.6.0\n",
      "libarchive-c                  2.9\n",
      "llvmlite                      0.38.0\n",
      "locket                        0.2.1\n",
      "lxml                          4.8.0\n",
      "Markdown                      3.3.4\n",
      "MarkupSafe                    2.0.1\n",
      "matplotlib                    3.5.1\n",
      "matplotlib-inline             0.1.2\n",
      "mccabe                        0.6.1\n",
      "menuinst                      1.4.18\n",
      "mistune                       0.8.4\n",
      "mkl-fft                       1.3.1\n",
      "mkl-random                    1.2.2\n",
      "mkl-service                   2.4.0\n",
      "mock                          4.0.3\n",
      "mpmath                        1.2.1\n",
      "msgpack                       1.0.2\n",
      "multidict                     5.1.0\n",
      "multipledispatch              0.6.0\n",
      "munkres                       1.1.4\n",
      "mypy-extensions               0.4.3\n",
      "navigator-updater             0.2.1\n",
      "nbclassic                     0.3.5\n",
      "nbclient                      0.5.13\n",
      "nbconvert                     6.4.4\n",
      "nbformat                      5.3.0\n",
      "nest-asyncio                  1.5.5\n",
      "networkx                      2.7.1\n",
      "nltk                          3.7\n",
      "nose                          1.3.7\n",
      "notebook                      6.4.8\n",
      "numba                         0.55.1\n",
      "numexpr                       2.8.1\n",
      "numpy                         1.21.5\n",
      "numpydoc                      1.2\n",
      "olefile                       0.46\n",
      "openpyxl                      3.0.9\n",
      "packaging                     21.3\n",
      "pandas                        1.4.2\n",
      "pandocfilters                 1.5.0\n",
      "panel                         0.13.0\n",
      "param                         1.12.0\n",
      "paramiko                      2.8.1\n",
      "parsel                        1.6.0\n",
      "parso                         0.8.3\n",
      "partd                         1.2.0\n",
      "pathspec                      0.7.0\n",
      "patsy                         0.5.2\n",
      "pep8                          1.7.1\n",
      "pexpect                       4.8.0\n",
      "Note: you may need to restart the kernel to use updated packages.pickleshare                   0.7.5\n",
      "Pillow                        9.0.1\n",
      "pip                           21.2.4\n",
      "pkginfo                       1.8.2\n",
      "plotly                        5.6.0\n",
      "pluggy                        1.0.0\n",
      "poyo                          0.5.0\n",
      "prometheus-client             0.13.1\n",
      "prompt-toolkit                3.0.20\n",
      "Protego                       0.1.16\n",
      "protobuf                      3.19.1\n",
      "psutil                        5.8.0\n",
      "ptyprocess                    0.7.0\n",
      "pure-eval                     0.2.2\n",
      "py                            1.11.0\n",
      "pyasn1                        0.4.8\n",
      "pyasn1-modules                0.2.8\n",
      "pycodestyle                   2.7.0\n",
      "pycosat                       0.6.3\n",
      "pycparser                     2.21\n",
      "pyct                          0.4.6\n",
      "pycurl                        7.44.1\n",
      "PyDispatcher                  2.0.5\n",
      "pydocstyle                    6.1.1\n",
      "pyerfa                        2.0.0\n",
      "pyflakes                      2.3.1\n",
      "Pygments                      2.11.2\n",
      "PyHamcrest                    2.0.2\n",
      "PyJWT                         2.1.0\n",
      "pylint                        2.9.6\n",
      "pyls-spyder                   0.4.0\n",
      "PyNaCl                        1.4.0\n",
      "pyodbc                        4.0.32\n",
      "pyOpenSSL                     21.0.0\n",
      "pyparsing                     3.0.4\n",
      "pyreadline                    2.1\n",
      "pyrsistent                    0.18.0\n",
      "PySocks                       1.7.1\n",
      "pytest                        7.1.1\n",
      "python-dateutil               2.8.2\n",
      "python-lsp-black              1.0.0\n",
      "python-lsp-jsonrpc            1.0.0\n",
      "python-lsp-server             1.2.4\n",
      "python-slugify                5.0.2\n",
      "python-snappy                 0.6.0\n",
      "pytz                          2021.3\n",
      "pyviz-comms                   2.0.2\n",
      "PyWavelets                    1.3.0\n",
      "pywin32                       302\n",
      "pywin32-ctypes                0.2.0\n",
      "pywinpty                      2.0.2\n",
      "PyYAML                        6.0\n",
      "pyzmq                         22.3.0\n",
      "QDarkStyle                    3.0.2\n",
      "qstylizer                     0.1.10\n",
      "QtAwesome                     1.0.3\n",
      "qtconsole                     5.3.0\n",
      "QtPy                          2.0.1\n",
      "queuelib                      1.5.0\n",
      "regex                         2022.3.15\n",
      "requests                      2.27.1\n",
      "requests-file                 1.5.1\n",
      "rope                          0.22.0\n",
      "rsa                           4.7.2\n",
      "Rtree                         0.9.7\n",
      "ruamel-yaml-conda             0.15.100\n",
      "s3transfer                    0.5.0\n",
      "scikit-image                  0.19.2\n",
      "scikit-learn                  1.0.2\n",
      "scikit-learn-intelex          2021.20220215.102710\n",
      "scipy                         1.7.3\n",
      "Scrapy                        2.6.1\n",
      "seaborn                       0.11.2\n",
      "Send2Trash                    1.8.0\n",
      "service-identity              18.1.0\n",
      "setuptools                    61.2.0\n",
      "sip                           4.19.13\n",
      "six                           1.16.0\n",
      "smart-open                    5.1.0\n",
      "sniffio                       1.2.0\n",
      "snowballstemmer               2.2.0\n",
      "sortedcollections             2.1.0\n",
      "sortedcontainers              2.4.0\n",
      "soupsieve                     2.3.1\n",
      "Sphinx                        4.4.0\n",
      "sphinxcontrib-applehelp       1.0.2\n",
      "sphinxcontrib-devhelp         1.0.2\n",
      "sphinxcontrib-htmlhelp        2.0.0\n",
      "sphinxcontrib-jsmath          1.0.1\n",
      "sphinxcontrib-qthelp          1.0.3\n",
      "sphinxcontrib-serializinghtml 1.1.5\n",
      "spyder                        5.1.5\n",
      "spyder-kernels                2.1.3\n",
      "SQLAlchemy                    1.4.32\n",
      "stack-data                    0.2.0\n",
      "statsmodels                   0.13.2\n",
      "sympy                         1.10.1\n",
      "tables                        3.6.1\n",
      "tabulate                      0.8.9\n",
      "TBB                           0.2\n",
      "tblib                         1.7.0\n",
      "tenacity                      8.0.1\n",
      "terminado                     0.13.1\n",
      "testpath                      0.5.0\n",
      "text-unidecode                1.3\n",
      "textdistance                  4.2.1\n",
      "threadpoolctl                 2.2.0\n",
      "three-merge                   0.1.1\n",
      "tifffile                      2021.7.2\n",
      "tinycss                       0.4\n",
      "tldextract                    3.2.0\n",
      "toml                          0.10.2\n",
      "tomli                         1.2.2\n",
      "toolz                         0.11.2\n",
      "tornado                       6.1\n",
      "tqdm                          4.64.0\n",
      "traitlets                     5.1.1\n",
      "Twisted                       22.2.0\n",
      "twisted-iocpsupport           1.0.2\n",
      "typed-ast                     1.4.3\n",
      "typing_extensions             4.1.1\n",
      "ujson                         5.1.0\n",
      "Unidecode                     1.2.0\n",
      "urllib3                       1.26.9\n",
      "w3lib                         1.21.0\n",
      "watchdog                      2.1.6\n",
      "wcwidth                       0.2.5\n",
      "webencodings                  0.5.1\n",
      "websocket-client              0.58.0\n",
      "Werkzeug                      2.0.3\n",
      "wheel                         0.37.1\n",
      "widgetsnbextension            3.5.2\n",
      "win-inet-pton                 1.1.0\n",
      "win-unicode-console           0.5\n",
      "wincertstore                  0.2\n",
      "wrapt                         1.12.1\n",
      "xarray                        0.20.1\n",
      "xlrd                          2.0.1\n",
      "XlsxWriter                    3.0.3\n",
      "xlwings                       0.24.9\n",
      "yapf                          0.31.0\n",
      "yarl                          1.6.3\n",
      "zict                          2.0.0\n",
      "zipp                          3.7.0\n",
      "zope.interface                5.4.0\n",
      "\n"
     ]
    }
   ],
   "source": [
    "pip list"
   ]
  }
 ],
 "metadata": {
  "kernelspec": {
   "display_name": "Python 3 (ipykernel)",
   "language": "python",
   "name": "python3"
  },
  "language_info": {
   "codemirror_mode": {
    "name": "ipython",
    "version": 3
   },
   "file_extension": ".py",
   "mimetype": "text/x-python",
   "name": "python",
   "nbconvert_exporter": "python",
   "pygments_lexer": "ipython3",
   "version": "3.9.12"
  }
 },
 "nbformat": 4,
 "nbformat_minor": 5
}
